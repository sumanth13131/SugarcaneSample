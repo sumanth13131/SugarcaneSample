{
  "nbformat": 4,
  "nbformat_minor": 0,
  "metadata": {
    "colab": {
      "name": "ASM LR.ipynb",
      "provenance": [],
      "collapsed_sections": [],
      "authorship_tag": "ABX9TyMayXh+GXr5vsAJDCNahxtP",
      "include_colab_link": true
    },
    "kernelspec": {
      "name": "python3",
      "display_name": "Python 3"
    }
  },
  "cells": [
    {
      "cell_type": "markdown",
      "metadata": {
        "id": "view-in-github",
        "colab_type": "text"
      },
      "source": [
        "<a href=\"https://colab.research.google.com/github/sumanth13131/SugarcaneSample/blob/main/ASM_LR.ipynb\" target=\"_parent\"><img src=\"https://colab.research.google.com/assets/colab-badge.svg\" alt=\"Open In Colab\"/></a>"
      ]
    },
    {
      "cell_type": "code",
      "metadata": {
        "id": "qucCz_gFcB12"
      },
      "source": [
        "import pandas as pd\n",
        "import matplotlib.pyplot as plt\n",
        "import seaborn as sns\n",
        "%matplotlib inline"
      ],
      "execution_count": null,
      "outputs": []
    },
    {
      "cell_type": "code",
      "metadata": {
        "colab": {
          "base_uri": "https://localhost:8080/",
          "height": 204
        },
        "id": "ACGZEfhyce0q",
        "outputId": "361a4d32-0c7b-49ac-f7e5-6855fcd95305"
      },
      "source": [
        "data=pd.read_csv('Data.csv')\n",
        "data.head()"
      ],
      "execution_count": null,
      "outputs": [
        {
          "output_type": "execute_result",
          "data": {
            "text/html": [
              "<div>\n",
              "<style scoped>\n",
              "    .dataframe tbody tr th:only-of-type {\n",
              "        vertical-align: middle;\n",
              "    }\n",
              "\n",
              "    .dataframe tbody tr th {\n",
              "        vertical-align: top;\n",
              "    }\n",
              "\n",
              "    .dataframe thead th {\n",
              "        text-align: right;\n",
              "    }\n",
              "</style>\n",
              "<table border=\"1\" class=\"dataframe\">\n",
              "  <thead>\n",
              "    <tr style=\"text-align: right;\">\n",
              "      <th></th>\n",
              "      <th>Crop_Year</th>\n",
              "      <th>Area</th>\n",
              "      <th>Rainfall</th>\n",
              "      <th>Production</th>\n",
              "    </tr>\n",
              "  </thead>\n",
              "  <tbody>\n",
              "    <tr>\n",
              "      <th>0</th>\n",
              "      <td>1997</td>\n",
              "      <td>1878035</td>\n",
              "      <td>938.5</td>\n",
              "      <td>114326591</td>\n",
              "    </tr>\n",
              "    <tr>\n",
              "      <th>1</th>\n",
              "      <td>1998</td>\n",
              "      <td>1862183</td>\n",
              "      <td>1528.2</td>\n",
              "      <td>109489138</td>\n",
              "    </tr>\n",
              "    <tr>\n",
              "      <th>2</th>\n",
              "      <td>1999</td>\n",
              "      <td>1896965</td>\n",
              "      <td>1739.2</td>\n",
              "      <td>108577182</td>\n",
              "    </tr>\n",
              "    <tr>\n",
              "      <th>3</th>\n",
              "      <td>2000</td>\n",
              "      <td>1938366</td>\n",
              "      <td>1718.2</td>\n",
              "      <td>106067503</td>\n",
              "    </tr>\n",
              "    <tr>\n",
              "      <th>4</th>\n",
              "      <td>2001</td>\n",
              "      <td>2034883</td>\n",
              "      <td>1635.5</td>\n",
              "      <td>117981573</td>\n",
              "    </tr>\n",
              "  </tbody>\n",
              "</table>\n",
              "</div>"
            ],
            "text/plain": [
              "   Crop_Year     Area  Rainfall  Production\n",
              "0       1997  1878035     938.5   114326591\n",
              "1       1998  1862183    1528.2   109489138\n",
              "2       1999  1896965    1739.2   108577182\n",
              "3       2000  1938366    1718.2   106067503\n",
              "4       2001  2034883    1635.5   117981573"
            ]
          },
          "metadata": {
            "tags": []
          },
          "execution_count": 230
        }
      ]
    },
    {
      "cell_type": "code",
      "metadata": {
        "colab": {
          "base_uri": "https://localhost:8080/"
        },
        "id": "T0_GDUQ1wXJt",
        "outputId": "4d1fd705-adb1-4ac2-c506-1223cfaf6c10"
      },
      "source": [
        "np.array(data)"
      ],
      "execution_count": null,
      "outputs": [
        {
          "output_type": "execute_result",
          "data": {
            "text/plain": [
              "array([[1.99700000e+03, 1.87803500e+06, 9.38500000e+02, 1.14326591e+08],\n",
              "       [1.99800000e+03, 1.86218300e+06, 1.52820000e+03, 1.09489138e+08],\n",
              "       [1.99900000e+03, 1.89696500e+06, 1.73920000e+03, 1.08577182e+08],\n",
              "       [2.00000000e+03, 1.93836600e+06, 1.71820000e+03, 1.06067503e+08],\n",
              "       [2.00100000e+03, 2.03488300e+06, 1.63550000e+03, 1.17981573e+08],\n",
              "       [2.00200000e+03, 2.14898100e+06, 1.31430000e+03, 1.20948041e+08],\n",
              "       [2.00300000e+03, 2.11012600e+06, 2.14390000e+03, 1.17566725e+08],\n",
              "       [2.00400000e+03, 2.00232000e+06, 1.38920000e+03, 1.21755620e+08],\n",
              "       [2.00500000e+03, 2.15579100e+06, 1.49600000e+03, 1.25469871e+08],\n",
              "       [2.00600000e+03, 2.24652000e+06, 1.16140000e+03, 1.33949379e+08],\n",
              "       [2.00700000e+03, 2.17898700e+06, 1.31370000e+03, 1.24665288e+08],\n",
              "       [2.00800000e+03, 2.08417900e+06, 1.75320000e+03, 1.09047670e+08],\n",
              "       [2.00900000e+03, 1.97732400e+06, 1.15940000e+03, 1.17139919e+08],\n",
              "       [2.01000000e+03, 2.12485000e+06, 1.51290000e+03, 1.20544784e+08],\n",
              "       [2.01100000e+03, 2.16240400e+06, 1.55860000e+03, 1.28818743e+08],\n",
              "       [2.01200000e+03, 2.21171200e+06, 9.92300000e+02, 1.37904315e+08],\n",
              "       [2.01300000e+03, 2.22808000e+06, 1.97420000e+03, 1.42045762e+08],\n",
              "       [2.01400000e+03, 2.22826100e+06, 1.18810000e+03, 1.46576786e+08]])"
            ]
          },
          "metadata": {
            "tags": []
          },
          "execution_count": 321
        }
      ]
    },
    {
      "cell_type": "code",
      "metadata": {
        "colab": {
          "base_uri": "https://localhost:8080/",
          "height": 204
        },
        "id": "UCdik7y7dalS",
        "outputId": "2db9f4c6-5ff8-4faf-d9a1-e6ccacda7121"
      },
      "source": [
        "data.tail()"
      ],
      "execution_count": null,
      "outputs": [
        {
          "output_type": "execute_result",
          "data": {
            "text/html": [
              "<div>\n",
              "<style scoped>\n",
              "    .dataframe tbody tr th:only-of-type {\n",
              "        vertical-align: middle;\n",
              "    }\n",
              "\n",
              "    .dataframe tbody tr th {\n",
              "        vertical-align: top;\n",
              "    }\n",
              "\n",
              "    .dataframe thead th {\n",
              "        text-align: right;\n",
              "    }\n",
              "</style>\n",
              "<table border=\"1\" class=\"dataframe\">\n",
              "  <thead>\n",
              "    <tr style=\"text-align: right;\">\n",
              "      <th></th>\n",
              "      <th>Crop_Year</th>\n",
              "      <th>Area</th>\n",
              "      <th>Rainfall</th>\n",
              "      <th>Production</th>\n",
              "    </tr>\n",
              "  </thead>\n",
              "  <tbody>\n",
              "    <tr>\n",
              "      <th>13</th>\n",
              "      <td>2010</td>\n",
              "      <td>2124850</td>\n",
              "      <td>1512.9</td>\n",
              "      <td>120544784</td>\n",
              "    </tr>\n",
              "    <tr>\n",
              "      <th>14</th>\n",
              "      <td>2011</td>\n",
              "      <td>2162404</td>\n",
              "      <td>1558.6</td>\n",
              "      <td>128818743</td>\n",
              "    </tr>\n",
              "    <tr>\n",
              "      <th>15</th>\n",
              "      <td>2012</td>\n",
              "      <td>2211712</td>\n",
              "      <td>992.3</td>\n",
              "      <td>137904315</td>\n",
              "    </tr>\n",
              "    <tr>\n",
              "      <th>16</th>\n",
              "      <td>2013</td>\n",
              "      <td>2228080</td>\n",
              "      <td>1974.2</td>\n",
              "      <td>142045762</td>\n",
              "    </tr>\n",
              "    <tr>\n",
              "      <th>17</th>\n",
              "      <td>2014</td>\n",
              "      <td>2228261</td>\n",
              "      <td>1188.1</td>\n",
              "      <td>146576786</td>\n",
              "    </tr>\n",
              "  </tbody>\n",
              "</table>\n",
              "</div>"
            ],
            "text/plain": [
              "    Crop_Year     Area  Rainfall  Production\n",
              "13       2010  2124850    1512.9   120544784\n",
              "14       2011  2162404    1558.6   128818743\n",
              "15       2012  2211712     992.3   137904315\n",
              "16       2013  2228080    1974.2   142045762\n",
              "17       2014  2228261    1188.1   146576786"
            ]
          },
          "metadata": {
            "tags": []
          },
          "execution_count": 231
        }
      ]
    },
    {
      "cell_type": "code",
      "metadata": {
        "colab": {
          "base_uri": "https://localhost:8080/",
          "height": 607
        },
        "id": "e7LthUDfewVt",
        "outputId": "8a19d98a-4e5b-45be-ca1e-6261c472f963"
      },
      "source": [
        "data"
      ],
      "execution_count": null,
      "outputs": [
        {
          "output_type": "execute_result",
          "data": {
            "text/html": [
              "<div>\n",
              "<style scoped>\n",
              "    .dataframe tbody tr th:only-of-type {\n",
              "        vertical-align: middle;\n",
              "    }\n",
              "\n",
              "    .dataframe tbody tr th {\n",
              "        vertical-align: top;\n",
              "    }\n",
              "\n",
              "    .dataframe thead th {\n",
              "        text-align: right;\n",
              "    }\n",
              "</style>\n",
              "<table border=\"1\" class=\"dataframe\">\n",
              "  <thead>\n",
              "    <tr style=\"text-align: right;\">\n",
              "      <th></th>\n",
              "      <th>Crop_Year</th>\n",
              "      <th>Area</th>\n",
              "      <th>Rainfall</th>\n",
              "      <th>Production</th>\n",
              "    </tr>\n",
              "  </thead>\n",
              "  <tbody>\n",
              "    <tr>\n",
              "      <th>0</th>\n",
              "      <td>1997</td>\n",
              "      <td>1878035</td>\n",
              "      <td>938.5</td>\n",
              "      <td>114326591</td>\n",
              "    </tr>\n",
              "    <tr>\n",
              "      <th>1</th>\n",
              "      <td>1998</td>\n",
              "      <td>1862183</td>\n",
              "      <td>1528.2</td>\n",
              "      <td>109489138</td>\n",
              "    </tr>\n",
              "    <tr>\n",
              "      <th>2</th>\n",
              "      <td>1999</td>\n",
              "      <td>1896965</td>\n",
              "      <td>1739.2</td>\n",
              "      <td>108577182</td>\n",
              "    </tr>\n",
              "    <tr>\n",
              "      <th>3</th>\n",
              "      <td>2000</td>\n",
              "      <td>1938366</td>\n",
              "      <td>1718.2</td>\n",
              "      <td>106067503</td>\n",
              "    </tr>\n",
              "    <tr>\n",
              "      <th>4</th>\n",
              "      <td>2001</td>\n",
              "      <td>2034883</td>\n",
              "      <td>1635.5</td>\n",
              "      <td>117981573</td>\n",
              "    </tr>\n",
              "    <tr>\n",
              "      <th>5</th>\n",
              "      <td>2002</td>\n",
              "      <td>2148981</td>\n",
              "      <td>1314.3</td>\n",
              "      <td>120948041</td>\n",
              "    </tr>\n",
              "    <tr>\n",
              "      <th>6</th>\n",
              "      <td>2003</td>\n",
              "      <td>2110126</td>\n",
              "      <td>2143.9</td>\n",
              "      <td>117566725</td>\n",
              "    </tr>\n",
              "    <tr>\n",
              "      <th>7</th>\n",
              "      <td>2004</td>\n",
              "      <td>2002320</td>\n",
              "      <td>1389.2</td>\n",
              "      <td>121755620</td>\n",
              "    </tr>\n",
              "    <tr>\n",
              "      <th>8</th>\n",
              "      <td>2005</td>\n",
              "      <td>2155791</td>\n",
              "      <td>1496.0</td>\n",
              "      <td>125469871</td>\n",
              "    </tr>\n",
              "    <tr>\n",
              "      <th>9</th>\n",
              "      <td>2006</td>\n",
              "      <td>2246520</td>\n",
              "      <td>1161.4</td>\n",
              "      <td>133949379</td>\n",
              "    </tr>\n",
              "    <tr>\n",
              "      <th>10</th>\n",
              "      <td>2007</td>\n",
              "      <td>2178987</td>\n",
              "      <td>1313.7</td>\n",
              "      <td>124665288</td>\n",
              "    </tr>\n",
              "    <tr>\n",
              "      <th>11</th>\n",
              "      <td>2008</td>\n",
              "      <td>2084179</td>\n",
              "      <td>1753.2</td>\n",
              "      <td>109047670</td>\n",
              "    </tr>\n",
              "    <tr>\n",
              "      <th>12</th>\n",
              "      <td>2009</td>\n",
              "      <td>1977324</td>\n",
              "      <td>1159.4</td>\n",
              "      <td>117139919</td>\n",
              "    </tr>\n",
              "    <tr>\n",
              "      <th>13</th>\n",
              "      <td>2010</td>\n",
              "      <td>2124850</td>\n",
              "      <td>1512.9</td>\n",
              "      <td>120544784</td>\n",
              "    </tr>\n",
              "    <tr>\n",
              "      <th>14</th>\n",
              "      <td>2011</td>\n",
              "      <td>2162404</td>\n",
              "      <td>1558.6</td>\n",
              "      <td>128818743</td>\n",
              "    </tr>\n",
              "    <tr>\n",
              "      <th>15</th>\n",
              "      <td>2012</td>\n",
              "      <td>2211712</td>\n",
              "      <td>992.3</td>\n",
              "      <td>137904315</td>\n",
              "    </tr>\n",
              "    <tr>\n",
              "      <th>16</th>\n",
              "      <td>2013</td>\n",
              "      <td>2228080</td>\n",
              "      <td>1974.2</td>\n",
              "      <td>142045762</td>\n",
              "    </tr>\n",
              "    <tr>\n",
              "      <th>17</th>\n",
              "      <td>2014</td>\n",
              "      <td>2228261</td>\n",
              "      <td>1188.1</td>\n",
              "      <td>146576786</td>\n",
              "    </tr>\n",
              "  </tbody>\n",
              "</table>\n",
              "</div>"
            ],
            "text/plain": [
              "    Crop_Year     Area  Rainfall  Production\n",
              "0        1997  1878035     938.5   114326591\n",
              "1        1998  1862183    1528.2   109489138\n",
              "2        1999  1896965    1739.2   108577182\n",
              "3        2000  1938366    1718.2   106067503\n",
              "4        2001  2034883    1635.5   117981573\n",
              "5        2002  2148981    1314.3   120948041\n",
              "6        2003  2110126    2143.9   117566725\n",
              "7        2004  2002320    1389.2   121755620\n",
              "8        2005  2155791    1496.0   125469871\n",
              "9        2006  2246520    1161.4   133949379\n",
              "10       2007  2178987    1313.7   124665288\n",
              "11       2008  2084179    1753.2   109047670\n",
              "12       2009  1977324    1159.4   117139919\n",
              "13       2010  2124850    1512.9   120544784\n",
              "14       2011  2162404    1558.6   128818743\n",
              "15       2012  2211712     992.3   137904315\n",
              "16       2013  2228080    1974.2   142045762\n",
              "17       2014  2228261    1188.1   146576786"
            ]
          },
          "metadata": {
            "tags": []
          },
          "execution_count": 232
        }
      ]
    },
    {
      "cell_type": "code",
      "metadata": {
        "colab": {
          "base_uri": "https://localhost:8080/"
        },
        "id": "Ok8-m9Kfclrz",
        "outputId": "afb820bf-1dfb-4362-fe70-6494a68c5ffe"
      },
      "source": [
        "data.shape"
      ],
      "execution_count": null,
      "outputs": [
        {
          "output_type": "execute_result",
          "data": {
            "text/plain": [
              "(18, 4)"
            ]
          },
          "metadata": {
            "tags": []
          },
          "execution_count": 233
        }
      ]
    },
    {
      "cell_type": "code",
      "metadata": {
        "colab": {
          "base_uri": "https://localhost:8080/",
          "height": 607
        },
        "id": "RhWv8HXmgYF9",
        "outputId": "5aee1e30-5e88-4db1-b44e-74bfc98e946e"
      },
      "source": [
        "data.iloc[:,1:3]"
      ],
      "execution_count": null,
      "outputs": [
        {
          "output_type": "execute_result",
          "data": {
            "text/html": [
              "<div>\n",
              "<style scoped>\n",
              "    .dataframe tbody tr th:only-of-type {\n",
              "        vertical-align: middle;\n",
              "    }\n",
              "\n",
              "    .dataframe tbody tr th {\n",
              "        vertical-align: top;\n",
              "    }\n",
              "\n",
              "    .dataframe thead th {\n",
              "        text-align: right;\n",
              "    }\n",
              "</style>\n",
              "<table border=\"1\" class=\"dataframe\">\n",
              "  <thead>\n",
              "    <tr style=\"text-align: right;\">\n",
              "      <th></th>\n",
              "      <th>Area</th>\n",
              "      <th>Rainfall</th>\n",
              "    </tr>\n",
              "  </thead>\n",
              "  <tbody>\n",
              "    <tr>\n",
              "      <th>0</th>\n",
              "      <td>1878035</td>\n",
              "      <td>938.5</td>\n",
              "    </tr>\n",
              "    <tr>\n",
              "      <th>1</th>\n",
              "      <td>1862183</td>\n",
              "      <td>1528.2</td>\n",
              "    </tr>\n",
              "    <tr>\n",
              "      <th>2</th>\n",
              "      <td>1896965</td>\n",
              "      <td>1739.2</td>\n",
              "    </tr>\n",
              "    <tr>\n",
              "      <th>3</th>\n",
              "      <td>1938366</td>\n",
              "      <td>1718.2</td>\n",
              "    </tr>\n",
              "    <tr>\n",
              "      <th>4</th>\n",
              "      <td>2034883</td>\n",
              "      <td>1635.5</td>\n",
              "    </tr>\n",
              "    <tr>\n",
              "      <th>5</th>\n",
              "      <td>2148981</td>\n",
              "      <td>1314.3</td>\n",
              "    </tr>\n",
              "    <tr>\n",
              "      <th>6</th>\n",
              "      <td>2110126</td>\n",
              "      <td>2143.9</td>\n",
              "    </tr>\n",
              "    <tr>\n",
              "      <th>7</th>\n",
              "      <td>2002320</td>\n",
              "      <td>1389.2</td>\n",
              "    </tr>\n",
              "    <tr>\n",
              "      <th>8</th>\n",
              "      <td>2155791</td>\n",
              "      <td>1496.0</td>\n",
              "    </tr>\n",
              "    <tr>\n",
              "      <th>9</th>\n",
              "      <td>2246520</td>\n",
              "      <td>1161.4</td>\n",
              "    </tr>\n",
              "    <tr>\n",
              "      <th>10</th>\n",
              "      <td>2178987</td>\n",
              "      <td>1313.7</td>\n",
              "    </tr>\n",
              "    <tr>\n",
              "      <th>11</th>\n",
              "      <td>2084179</td>\n",
              "      <td>1753.2</td>\n",
              "    </tr>\n",
              "    <tr>\n",
              "      <th>12</th>\n",
              "      <td>1977324</td>\n",
              "      <td>1159.4</td>\n",
              "    </tr>\n",
              "    <tr>\n",
              "      <th>13</th>\n",
              "      <td>2124850</td>\n",
              "      <td>1512.9</td>\n",
              "    </tr>\n",
              "    <tr>\n",
              "      <th>14</th>\n",
              "      <td>2162404</td>\n",
              "      <td>1558.6</td>\n",
              "    </tr>\n",
              "    <tr>\n",
              "      <th>15</th>\n",
              "      <td>2211712</td>\n",
              "      <td>992.3</td>\n",
              "    </tr>\n",
              "    <tr>\n",
              "      <th>16</th>\n",
              "      <td>2228080</td>\n",
              "      <td>1974.2</td>\n",
              "    </tr>\n",
              "    <tr>\n",
              "      <th>17</th>\n",
              "      <td>2228261</td>\n",
              "      <td>1188.1</td>\n",
              "    </tr>\n",
              "  </tbody>\n",
              "</table>\n",
              "</div>"
            ],
            "text/plain": [
              "       Area  Rainfall\n",
              "0   1878035     938.5\n",
              "1   1862183    1528.2\n",
              "2   1896965    1739.2\n",
              "3   1938366    1718.2\n",
              "4   2034883    1635.5\n",
              "5   2148981    1314.3\n",
              "6   2110126    2143.9\n",
              "7   2002320    1389.2\n",
              "8   2155791    1496.0\n",
              "9   2246520    1161.4\n",
              "10  2178987    1313.7\n",
              "11  2084179    1753.2\n",
              "12  1977324    1159.4\n",
              "13  2124850    1512.9\n",
              "14  2162404    1558.6\n",
              "15  2211712     992.3\n",
              "16  2228080    1974.2\n",
              "17  2228261    1188.1"
            ]
          },
          "metadata": {
            "tags": []
          },
          "execution_count": 234
        }
      ]
    },
    {
      "cell_type": "code",
      "metadata": {
        "colab": {
          "base_uri": "https://localhost:8080/",
          "height": 297
        },
        "id": "7JJhGUfvcokq",
        "outputId": "323cef60-15f1-416b-fdc9-6720aa5299db"
      },
      "source": [
        "data.describe()"
      ],
      "execution_count": null,
      "outputs": [
        {
          "output_type": "execute_result",
          "data": {
            "text/html": [
              "<div>\n",
              "<style scoped>\n",
              "    .dataframe tbody tr th:only-of-type {\n",
              "        vertical-align: middle;\n",
              "    }\n",
              "\n",
              "    .dataframe tbody tr th {\n",
              "        vertical-align: top;\n",
              "    }\n",
              "\n",
              "    .dataframe thead th {\n",
              "        text-align: right;\n",
              "    }\n",
              "</style>\n",
              "<table border=\"1\" class=\"dataframe\">\n",
              "  <thead>\n",
              "    <tr style=\"text-align: right;\">\n",
              "      <th></th>\n",
              "      <th>Crop_Year</th>\n",
              "      <th>Area</th>\n",
              "      <th>Rainfall</th>\n",
              "      <th>Production</th>\n",
              "    </tr>\n",
              "  </thead>\n",
              "  <tbody>\n",
              "    <tr>\n",
              "      <th>count</th>\n",
              "      <td>18.000000</td>\n",
              "      <td>1.800000e+01</td>\n",
              "      <td>18.000000</td>\n",
              "      <td>1.800000e+01</td>\n",
              "    </tr>\n",
              "    <tr>\n",
              "      <th>mean</th>\n",
              "      <td>2005.500000</td>\n",
              "      <td>2.081665e+06</td>\n",
              "      <td>1473.155556</td>\n",
              "      <td>1.223819e+08</td>\n",
              "    </tr>\n",
              "    <tr>\n",
              "      <th>std</th>\n",
              "      <td>5.338539</td>\n",
              "      <td>1.281939e+05</td>\n",
              "      <td>325.455507</td>\n",
              "      <td>1.174355e+07</td>\n",
              "    </tr>\n",
              "    <tr>\n",
              "      <th>min</th>\n",
              "      <td>1997.000000</td>\n",
              "      <td>1.862183e+06</td>\n",
              "      <td>938.500000</td>\n",
              "      <td>1.060675e+08</td>\n",
              "    </tr>\n",
              "    <tr>\n",
              "      <th>25%</th>\n",
              "      <td>2001.250000</td>\n",
              "      <td>1.983573e+06</td>\n",
              "      <td>1219.500000</td>\n",
              "      <td>1.150299e+08</td>\n",
              "    </tr>\n",
              "    <tr>\n",
              "      <th>50%</th>\n",
              "      <td>2005.500000</td>\n",
              "      <td>2.117488e+06</td>\n",
              "      <td>1504.450000</td>\n",
              "      <td>1.207464e+08</td>\n",
              "    </tr>\n",
              "    <tr>\n",
              "      <th>75%</th>\n",
              "      <td>2009.750000</td>\n",
              "      <td>2.174841e+06</td>\n",
              "      <td>1697.525000</td>\n",
              "      <td>1.279815e+08</td>\n",
              "    </tr>\n",
              "    <tr>\n",
              "      <th>max</th>\n",
              "      <td>2014.000000</td>\n",
              "      <td>2.246520e+06</td>\n",
              "      <td>2143.900000</td>\n",
              "      <td>1.465768e+08</td>\n",
              "    </tr>\n",
              "  </tbody>\n",
              "</table>\n",
              "</div>"
            ],
            "text/plain": [
              "         Crop_Year          Area     Rainfall    Production\n",
              "count    18.000000  1.800000e+01    18.000000  1.800000e+01\n",
              "mean   2005.500000  2.081665e+06  1473.155556  1.223819e+08\n",
              "std       5.338539  1.281939e+05   325.455507  1.174355e+07\n",
              "min    1997.000000  1.862183e+06   938.500000  1.060675e+08\n",
              "25%    2001.250000  1.983573e+06  1219.500000  1.150299e+08\n",
              "50%    2005.500000  2.117488e+06  1504.450000  1.207464e+08\n",
              "75%    2009.750000  2.174841e+06  1697.525000  1.279815e+08\n",
              "max    2014.000000  2.246520e+06  2143.900000  1.465768e+08"
            ]
          },
          "metadata": {
            "tags": []
          },
          "execution_count": 235
        }
      ]
    },
    {
      "cell_type": "code",
      "metadata": {
        "colab": {
          "base_uri": "https://localhost:8080/",
          "height": 291
        },
        "id": "dAYCZB5gctsr",
        "outputId": "488101c7-c911-4872-cf77-14afcbb57d85"
      },
      "source": [
        "sns.heatmap(data.corr(),annot=True)"
      ],
      "execution_count": null,
      "outputs": [
        {
          "output_type": "execute_result",
          "data": {
            "text/plain": [
              "<matplotlib.axes._subplots.AxesSubplot at 0x7febf3b71c88>"
            ]
          },
          "metadata": {
            "tags": []
          },
          "execution_count": 236
        },
        {
          "output_type": "display_data",
          "data": {
            "image/png": "[encoded data removed]",
            "text/plain": [
              "<Figure size 432x288 with 2 Axes>"
            ]
          },
          "metadata": {
            "tags": [],
            "needs_background": "light"
          }
        }
      ]
    },
    {
      "cell_type": "code",
      "metadata": {
        "colab": {
          "base_uri": "https://localhost:8080/",
          "height": 744
        },
        "id": "k6U4NiuBiS9i",
        "outputId": "6a91bf70-9b5a-4d6b-e45a-73f92ab26223"
      },
      "source": [
        "sns.pairplot(data=data)"
      ],
      "execution_count": null,
      "outputs": [
        {
          "output_type": "execute_result",
          "data": {
            "text/plain": [
              "<seaborn.axisgrid.PairGrid at 0x7febf4a18c18>"
            ]
          },
          "metadata": {
            "tags": []
          },
          "execution_count": 237
        },
        {
          "output_type": "display_data",
          "data": {
            "image/png": "[encoded data removed]",
            "text/plain": [
              "<Figure size 720x720 with 20 Axes>"
            ]
          },
          "metadata": {
            "tags": [],
            "needs_background": "light"
          }
        }
      ]
    },
    {
      "cell_type": "code",
      "metadata": {
        "id": "3vMVcEcVGGRI"
      },
      "source": [
        "from sklearn.preprocessing import StandardScaler\n",
        "import numpy as np\n",
        "\n",
        "scaler_x = StandardScaler()\n",
        "scaler_x.fit(data.iloc[:,1:3])\n",
        "data_x=scaler_x.transform(data.iloc[:,1:3])\n",
        "scaler_y=StandardScaler()\n",
        "scaler_y.fit(np.array(data.iloc[:,3]).reshape(-1, 1))\n",
        "data_y=scaler_y.transform(np.array(data.iloc[:,3]).reshape(-1, 1))"
      ],
      "execution_count": null,
      "outputs": []
    },
    {
      "cell_type": "code",
      "metadata": {
        "id": "DvhrCzqEfQ17"
      },
      "source": [
        "from pickle import dump\n",
        "dump(scaler_x, open('scaler_x.pkl', 'wb'))\n",
        "dump(scaler_y, open('scaler_y.pkl', 'wb'))\n",
        "#from pickle import load\n",
        "#scaler = load(open('scaler.pkl', 'rb'))"
      ],
      "execution_count": null,
      "outputs": []
    },
    {
      "cell_type": "code",
      "metadata": {
        "id": "JjbH1upPGY1d"
      },
      "source": [
        "data_x=pd.DataFrame(data_x,columns=['Area','Rainfall'])"
      ],
      "execution_count": null,
      "outputs": []
    },
    {
      "cell_type": "code",
      "metadata": {
        "colab": {
          "base_uri": "https://localhost:8080/",
          "height": 204
        },
        "id": "HD5E0WRyGySr",
        "outputId": "0935cf58-0ab7-4f8c-8d00-68edb6beb19a"
      },
      "source": [
        "data_x.head()"
      ],
      "execution_count": null,
      "outputs": [
        {
          "output_type": "execute_result",
          "data": {
            "text/html": [
              "<div>\n",
              "<style scoped>\n",
              "    .dataframe tbody tr th:only-of-type {\n",
              "        vertical-align: middle;\n",
              "    }\n",
              "\n",
              "    .dataframe tbody tr th {\n",
              "        vertical-align: top;\n",
              "    }\n",
              "\n",
              "    .dataframe thead th {\n",
              "        text-align: right;\n",
              "    }\n",
              "</style>\n",
              "<table border=\"1\" class=\"dataframe\">\n",
              "  <thead>\n",
              "    <tr style=\"text-align: right;\">\n",
              "      <th></th>\n",
              "      <th>Area</th>\n",
              "      <th>Rainfall</th>\n",
              "    </tr>\n",
              "  </thead>\n",
              "  <tbody>\n",
              "    <tr>\n",
              "      <th>0</th>\n",
              "      <td>-1.634504</td>\n",
              "      <td>-1.690419</td>\n",
              "    </tr>\n",
              "    <tr>\n",
              "      <th>1</th>\n",
              "      <td>-1.761745</td>\n",
              "      <td>0.174034</td>\n",
              "    </tr>\n",
              "    <tr>\n",
              "      <th>2</th>\n",
              "      <td>-1.482556</td>\n",
              "      <td>0.841152</td>\n",
              "    </tr>\n",
              "    <tr>\n",
              "      <th>3</th>\n",
              "      <td>-1.150237</td>\n",
              "      <td>0.774756</td>\n",
              "    </tr>\n",
              "    <tr>\n",
              "      <th>4</th>\n",
              "      <td>-0.375510</td>\n",
              "      <td>0.513284</td>\n",
              "    </tr>\n",
              "  </tbody>\n",
              "</table>\n",
              "</div>"
            ],
            "text/plain": [
              "       Area  Rainfall\n",
              "0 -1.634504 -1.690419\n",
              "1 -1.761745  0.174034\n",
              "2 -1.482556  0.841152\n",
              "3 -1.150237  0.774756\n",
              "4 -0.375510  0.513284"
            ]
          },
          "metadata": {
            "tags": []
          },
          "execution_count": 243
        }
      ]
    },
    {
      "cell_type": "code",
      "metadata": {
        "colab": {
          "base_uri": "https://localhost:8080/"
        },
        "id": "V__pQXsKKaM0",
        "outputId": "4a67cfc7-6690-4b7b-87c6-2e20442065ec"
      },
      "source": [
        "data_y"
      ],
      "execution_count": null,
      "outputs": [
        {
          "output_type": "execute_result",
          "data": {
            "text/plain": [
              "array([[-0.70582424],\n",
              "       [-1.12969071],\n",
              "       [-1.20959796],\n",
              "       [-1.42950062],\n",
              "       [-0.38556805],\n",
              "       [-0.1256407 ],\n",
              "       [-0.42191779],\n",
              "       [-0.05487916],\n",
              "       [ 0.2705703 ],\n",
              "       [ 1.01356028],\n",
              "       [ 0.20007127],\n",
              "       [-1.16837294],\n",
              "       [-0.45931531],\n",
              "       [-0.16097482],\n",
              "       [ 0.56400458],\n",
              "       [ 1.36009899],\n",
              "       [ 1.72298014],\n",
              "       [ 2.11999674]])"
            ]
          },
          "metadata": {
            "tags": []
          },
          "execution_count": 244
        }
      ]
    },
    {
      "cell_type": "code",
      "metadata": {
        "id": "cuvm_2kxo3V2"
      },
      "source": [
        "from sklearn.model_selection import train_test_split\n",
        "x_train,x_test,y_train,y_test=train_test_split(data_x,data_y,test_size=0.2)"
      ],
      "execution_count": null,
      "outputs": []
    },
    {
      "cell_type": "code",
      "metadata": {
        "id": "CmWiEwX9GFB4"
      },
      "source": [
        ""
      ],
      "execution_count": null,
      "outputs": []
    },
    {
      "cell_type": "code",
      "metadata": {
        "colab": {
          "base_uri": "https://localhost:8080/"
        },
        "id": "BqpfzrRlpcy2",
        "outputId": "bae7982f-6cdc-42ee-972a-15f9b6352b51"
      },
      "source": [
        "print(x_train.shape)\n",
        "print(y_train.shape)\n",
        "print(x_test.shape)\n",
        "print(y_test.shape)"
      ],
      "execution_count": null,
      "outputs": [
        {
          "output_type": "stream",
          "text": [
            "(14, 2)\n",
            "(14, 1)\n",
            "(4, 2)\n",
            "(4, 1)\n"
          ],
          "name": "stdout"
        }
      ]
    },
    {
      "cell_type": "code",
      "metadata": {
        "colab": {
          "base_uri": "https://localhost:8080/",
          "height": 483
        },
        "id": "S9z9uS6KpfCN",
        "outputId": "a7efae77-8682-437e-83c9-7ec936da3a8e"
      },
      "source": [
        "x_train"
      ],
      "execution_count": null,
      "outputs": [
        {
          "output_type": "execute_result",
          "data": {
            "text/html": [
              "<div>\n",
              "<style scoped>\n",
              "    .dataframe tbody tr th:only-of-type {\n",
              "        vertical-align: middle;\n",
              "    }\n",
              "\n",
              "    .dataframe tbody tr th {\n",
              "        vertical-align: top;\n",
              "    }\n",
              "\n",
              "    .dataframe thead th {\n",
              "        text-align: right;\n",
              "    }\n",
              "</style>\n",
              "<table border=\"1\" class=\"dataframe\">\n",
              "  <thead>\n",
              "    <tr style=\"text-align: right;\">\n",
              "      <th></th>\n",
              "      <th>Area</th>\n",
              "      <th>Rainfall</th>\n",
              "    </tr>\n",
              "  </thead>\n",
              "  <tbody>\n",
              "    <tr>\n",
              "      <th>2</th>\n",
              "      <td>-1.482556</td>\n",
              "      <td>0.841152</td>\n",
              "    </tr>\n",
              "    <tr>\n",
              "      <th>1</th>\n",
              "      <td>-1.761745</td>\n",
              "      <td>0.174034</td>\n",
              "    </tr>\n",
              "    <tr>\n",
              "      <th>15</th>\n",
              "      <td>1.043868</td>\n",
              "      <td>-1.520319</td>\n",
              "    </tr>\n",
              "    <tr>\n",
              "      <th>13</th>\n",
              "      <td>0.346640</td>\n",
              "      <td>0.125660</td>\n",
              "    </tr>\n",
              "    <tr>\n",
              "      <th>5</th>\n",
              "      <td>0.540336</td>\n",
              "      <td>-0.502253</td>\n",
              "    </tr>\n",
              "    <tr>\n",
              "      <th>12</th>\n",
              "      <td>-0.837527</td>\n",
              "      <td>-0.992000</td>\n",
              "    </tr>\n",
              "    <tr>\n",
              "      <th>7</th>\n",
              "      <td>-0.636888</td>\n",
              "      <td>-0.265442</td>\n",
              "    </tr>\n",
              "    <tr>\n",
              "      <th>0</th>\n",
              "      <td>-1.634504</td>\n",
              "      <td>-1.690419</td>\n",
              "    </tr>\n",
              "    <tr>\n",
              "      <th>16</th>\n",
              "      <td>1.175251</td>\n",
              "      <td>1.584150</td>\n",
              "    </tr>\n",
              "    <tr>\n",
              "      <th>6</th>\n",
              "      <td>0.228453</td>\n",
              "      <td>2.120690</td>\n",
              "    </tr>\n",
              "    <tr>\n",
              "      <th>4</th>\n",
              "      <td>-0.375510</td>\n",
              "      <td>0.513284</td>\n",
              "    </tr>\n",
              "    <tr>\n",
              "      <th>3</th>\n",
              "      <td>-1.150237</td>\n",
              "      <td>0.774756</td>\n",
              "    </tr>\n",
              "    <tr>\n",
              "      <th>11</th>\n",
              "      <td>0.020181</td>\n",
              "      <td>0.885416</td>\n",
              "    </tr>\n",
              "    <tr>\n",
              "      <th>17</th>\n",
              "      <td>1.176704</td>\n",
              "      <td>-0.901259</td>\n",
              "    </tr>\n",
              "  </tbody>\n",
              "</table>\n",
              "</div>"
            ],
            "text/plain": [
              "        Area  Rainfall\n",
              "2  -1.482556  0.841152\n",
              "1  -1.761745  0.174034\n",
              "15  1.043868 -1.520319\n",
              "13  0.346640  0.125660\n",
              "5   0.540336 -0.502253\n",
              "12 -0.837527 -0.992000\n",
              "7  -0.636888 -0.265442\n",
              "0  -1.634504 -1.690419\n",
              "16  1.175251  1.584150\n",
              "6   0.228453  2.120690\n",
              "4  -0.375510  0.513284\n",
              "3  -1.150237  0.774756\n",
              "11  0.020181  0.885416\n",
              "17  1.176704 -0.901259"
            ]
          },
          "metadata": {
            "tags": []
          },
          "execution_count": 247
        }
      ]
    },
    {
      "cell_type": "code",
      "metadata": {
        "colab": {
          "base_uri": "https://localhost:8080/"
        },
        "id": "4zXcs76DeD_2",
        "outputId": "7104558d-4a46-4098-d54c-465052c3dbe6"
      },
      "source": [
        "from sklearn.linear_model import LinearRegression\n",
        "from sklearn.metrics import mean_squared_error as mse\n",
        "lr=LinearRegression()\n",
        "lr"
      ],
      "execution_count": null,
      "outputs": [
        {
          "output_type": "execute_result",
          "data": {
            "text/plain": [
              "LinearRegression(copy_X=True, fit_intercept=True, n_jobs=None, normalize=False)"
            ]
          },
          "metadata": {
            "tags": []
          },
          "execution_count": 248
        }
      ]
    },
    {
      "cell_type": "code",
      "metadata": {
        "colab": {
          "base_uri": "https://localhost:8080/"
        },
        "id": "A_wslJihf8pw",
        "outputId": "d5909f6a-3c49-4b56-a5af-70c14210d6a8"
      },
      "source": [
        "lr.fit(x_train,y_train)"
      ],
      "execution_count": null,
      "outputs": [
        {
          "output_type": "execute_result",
          "data": {
            "text/plain": [
              "LinearRegression(copy_X=True, fit_intercept=True, n_jobs=None, normalize=False)"
            ]
          },
          "metadata": {
            "tags": []
          },
          "execution_count": 249
        }
      ]
    },
    {
      "cell_type": "code",
      "metadata": {
        "colab": {
          "base_uri": "https://localhost:8080/"
        },
        "id": "f9Ohhi3IgF5i",
        "outputId": "ca66f6a2-ca13-47e3-ab81-aad2e146e094"
      },
      "source": [
        "print(lr.score(x_test,y_test))\n",
        "ans=lr.predict(x_test)\n",
        "mse(y_test,ans)"
      ],
      "execution_count": null,
      "outputs": [
        {
          "output_type": "stream",
          "text": [
            "-1.2790115684530319\n"
          ],
          "name": "stdout"
        },
        {
          "output_type": "execute_result",
          "data": {
            "text/plain": [
              "0.23351607722655893"
            ]
          },
          "metadata": {
            "tags": []
          },
          "execution_count": 250
        }
      ]
    },
    {
      "cell_type": "code",
      "metadata": {
        "colab": {
          "base_uri": "https://localhost:8080/"
        },
        "id": "tdlkB4N7qbSQ",
        "outputId": "3bb08a27-37b4-4f36-8e23-fd898660851c"
      },
      "source": [
        "print(y_test)\n",
        "print(ans)"
      ],
      "execution_count": null,
      "outputs": [
        {
          "output_type": "stream",
          "text": [
            "[[0.20007127]\n",
            " [0.2705703 ]\n",
            " [0.56400458]\n",
            " [1.01356028]]\n",
            "[[0.93078708]\n",
            " [0.60361691]\n",
            " [0.59609625]\n",
            " [1.55037383]]\n"
          ],
          "name": "stdout"
        }
      ]
    },
    {
      "cell_type": "code",
      "metadata": {
        "colab": {
          "base_uri": "https://localhost:8080/"
        },
        "id": "IqDHolfUHCaJ",
        "outputId": "15c2143a-ce3f-49a0-8c0f-2503e0091b16"
      },
      "source": [
        "print(scaler_y.inverse_transform(y_test))\n",
        "print(scaler_y.inverse_transform(ans))"
      ],
      "execution_count": null,
      "outputs": [
        {
          "output_type": "stream",
          "text": [
            "[[1.24665288e+08]\n",
            " [1.25469871e+08]\n",
            " [1.28818743e+08]\n",
            " [1.33949379e+08]]\n",
            "[[1.33004715e+08]\n",
            " [1.29270826e+08]\n",
            " [1.29184995e+08]\n",
            " [1.40075861e+08]]\n"
          ],
          "name": "stdout"
        }
      ]
    },
    {
      "cell_type": "code",
      "metadata": {
        "colab": {
          "base_uri": "https://localhost:8080/"
        },
        "id": "hO1o9tVAnMN6",
        "outputId": "894f595b-aff3-4622-efcd-00503aae8176"
      },
      "source": [
        "from sklearn.linear_model import Ridge\n",
        "from sklearn.preprocessing import PolynomialFeatures\n",
        "score=[]\n",
        "m=[]\n",
        "for i in range(2,30):\n",
        "  X=x_train\n",
        "  poly = PolynomialFeatures(degree =i) \n",
        "  poly.fit(X) \n",
        "  X_poly=poly.transform(X)\n",
        "  lr=Ridge(alpha=0.1)\n",
        "  lr.fit(X_poly,y_train)\n",
        "  x_test_poly=poly.transform(x_test)\n",
        "  pre=lr.predict(x_test_poly)\n",
        "  score.append(lr.score(x_test_poly,y_test))\n",
        "  print(score[i-2])\n",
        "  m.append(mse(y_test,pre))\n",
        "  print(m[i-2])\n"
      ],
      "execution_count": null,
      "outputs": [
        {
          "output_type": "stream",
          "text": [
            "-2.832360153885419\n",
            "0.39267800218414645\n",
            "-8.324554292181384\n",
            "0.9554288228884628\n",
            "-13.694905571949855\n",
            "1.5056951670963634\n",
            "-13.69828533382835\n",
            "1.5060414701808895\n",
            "-24.038142319845743\n",
            "2.5655020169728324\n",
            "-23.163328624522414\n",
            "2.4758653230377337\n",
            "-38.45472723849311\n",
            "4.042679405541882\n",
            "-38.255962674353434\n",
            "4.0223132424420385\n",
            "-62.43618713728661\n",
            "6.4999097764844675\n",
            "-63.31704820289913\n",
            "6.590166106671974\n",
            "-103.09446358924752\n",
            "10.665909350720748\n",
            "-105.32077474892307\n",
            "10.894025546307256\n",
            "-171.72859966602192\n",
            "17.698420480693322\n",
            "-175.48060305361173\n",
            "18.082864827066455\n",
            "-286.6240964048856\n",
            "29.471044218478127\n",
            "-291.77148143106245\n",
            "29.998464603668822\n",
            "-477.35436961614045\n",
            "49.01398372135847\n",
            "-482.9306401497207\n",
            "49.58534932501779\n",
            "-791.7041970673537\n",
            "81.22344663035108\n",
            "-794.9586099749375\n",
            "81.55690598894938\n",
            "-1306.9302082726542\n",
            "134.015437108669\n",
            "-1304.32089220822\n",
            "133.74807679332648\n",
            "-2147.5453698384795\n",
            "220.1480209459972\n",
            "-2238.296062558227\n",
            "229.4466774613272\n",
            "-3955.946649332531\n",
            "405.44360201476167\n",
            "-3638.725233136004\n",
            "372.93990534737316\n",
            "-6483.257823255887\n",
            "664.4013885546656\n",
            "-5853.613846931753\n",
            "599.8857040202743\n"
          ],
          "name": "stdout"
        },
        {
          "output_type": "stream",
          "text": [
            "/usr/local/lib/python3.6/dist-packages/sklearn/linear_model/_ridge.py:188: LinAlgWarning: Ill-conditioned matrix (rcond=2.78881e-17): result may not be accurate.\n",
            "  overwrite_a=False)\n",
            "/usr/local/lib/python3.6/dist-packages/sklearn/linear_model/_ridge.py:188: LinAlgWarning: Ill-conditioned matrix (rcond=4.03759e-18): result may not be accurate.\n",
            "  overwrite_a=False)\n",
            "/usr/local/lib/python3.6/dist-packages/sklearn/linear_model/_ridge.py:190: UserWarning: Singular matrix in solving dual problem. Using least-squares solution instead.\n",
            "  warnings.warn(\"Singular matrix in solving dual problem. Using \"\n",
            "/usr/local/lib/python3.6/dist-packages/sklearn/linear_model/_ridge.py:190: UserWarning: Singular matrix in solving dual problem. Using least-squares solution instead.\n",
            "  warnings.warn(\"Singular matrix in solving dual problem. Using \"\n",
            "/usr/local/lib/python3.6/dist-packages/sklearn/linear_model/_ridge.py:190: UserWarning: Singular matrix in solving dual problem. Using least-squares solution instead.\n",
            "  warnings.warn(\"Singular matrix in solving dual problem. Using \"\n",
            "/usr/local/lib/python3.6/dist-packages/sklearn/linear_model/_ridge.py:190: UserWarning: Singular matrix in solving dual problem. Using least-squares solution instead.\n",
            "  warnings.warn(\"Singular matrix in solving dual problem. Using \"\n",
            "/usr/local/lib/python3.6/dist-packages/sklearn/linear_model/_ridge.py:190: UserWarning: Singular matrix in solving dual problem. Using least-squares solution instead.\n",
            "  warnings.warn(\"Singular matrix in solving dual problem. Using \"\n"
          ],
          "name": "stderr"
        }
      ]
    },
    {
      "cell_type": "code",
      "metadata": {
        "colab": {
          "base_uri": "https://localhost:8080/"
        },
        "id": "mATkijXXoDdk",
        "outputId": "6fef37c8-e181-46f0-df0e-e0f843f6d783"
      },
      "source": [
        "score"
      ],
      "execution_count": null,
      "outputs": [
        {
          "output_type": "execute_result",
          "data": {
            "text/plain": [
              "[-2.832360153885419,\n",
              " -8.324554292181384,\n",
              " -13.694905571949855,\n",
              " -13.69828533382835,\n",
              " -24.038142319845743,\n",
              " -23.163328624522414,\n",
              " -38.45472723849311,\n",
              " -38.255962674353434,\n",
              " -62.43618713728661,\n",
              " -63.31704820289913,\n",
              " -103.09446358924752,\n",
              " -105.32077474892307,\n",
              " -171.72859966602192,\n",
              " -175.48060305361173,\n",
              " -286.6240964048856,\n",
              " -291.77148143106245,\n",
              " -477.35436961614045,\n",
              " -482.9306401497207,\n",
              " -791.7041970673537,\n",
              " -794.9586099749375,\n",
              " -1306.9302082726542,\n",
              " -1304.32089220822,\n",
              " -2147.5453698384795,\n",
              " -2238.296062558227,\n",
              " -3955.946649332531,\n",
              " -3638.725233136004,\n",
              " -6483.257823255887,\n",
              " -5853.613846931753]"
            ]
          },
          "metadata": {
            "tags": []
          },
          "execution_count": 260
        }
      ]
    },
    {
      "cell_type": "code",
      "metadata": {
        "colab": {
          "base_uri": "https://localhost:8080/"
        },
        "id": "PNfjgZ-MoHg4",
        "outputId": "c3109d0f-2813-4ea0-eebe-36a419d47552"
      },
      "source": [
        "m"
      ],
      "execution_count": null,
      "outputs": [
        {
          "output_type": "execute_result",
          "data": {
            "text/plain": [
              "[0.39267800218414645,\n",
              " 0.9554288228884628,\n",
              " 1.5056951670963634,\n",
              " 1.5060414701808895,\n",
              " 2.5655020169728324,\n",
              " 2.4758653230377337,\n",
              " 4.042679405541882,\n",
              " 4.0223132424420385,\n",
              " 6.4999097764844675,\n",
              " 6.590166106671974,\n",
              " 10.665909350720748,\n",
              " 10.894025546307256,\n",
              " 17.698420480693322,\n",
              " 18.082864827066455,\n",
              " 29.471044218478127,\n",
              " 29.998464603668822,\n",
              " 49.01398372135847,\n",
              " 49.58534932501779,\n",
              " 81.22344663035108,\n",
              " 81.55690598894938,\n",
              " 134.015437108669,\n",
              " 133.74807679332648,\n",
              " 220.1480209459972,\n",
              " 229.4466774613272,\n",
              " 405.44360201476167,\n",
              " 372.93990534737316,\n",
              " 664.4013885546656,\n",
              " 599.8857040202743]"
            ]
          },
          "metadata": {
            "tags": []
          },
          "execution_count": 261
        }
      ]
    },
    {
      "cell_type": "code",
      "metadata": {
        "colab": {
          "base_uri": "https://localhost:8080/"
        },
        "id": "5AhoHxAuoQoz",
        "outputId": "dcf9b5e0-9f4b-419f-ec9d-cb202252160f"
      },
      "source": [
        "for i in pre:\n",
        "  print(scaler_y.inverse_transform(i))"
      ],
      "execution_count": null,
      "outputs": [
        {
          "output_type": "stream",
          "text": [
            "[1.17933602e+08]\n",
            "[1.17926598e+08]\n",
            "[1.17926503e+08]\n",
            "[6.92803489e+08]\n"
          ],
          "name": "stdout"
        }
      ]
    },
    {
      "cell_type": "code",
      "metadata": {
        "colab": {
          "base_uri": "https://localhost:8080/",
          "height": 204
        },
        "id": "371NSVXxLFaZ",
        "outputId": "b73d82b9-0ecf-4c1d-a510-85ae0b0b2e1f"
      },
      "source": [
        "data.head()"
      ],
      "execution_count": null,
      "outputs": [
        {
          "output_type": "execute_result",
          "data": {
            "text/html": [
              "<div>\n",
              "<style scoped>\n",
              "    .dataframe tbody tr th:only-of-type {\n",
              "        vertical-align: middle;\n",
              "    }\n",
              "\n",
              "    .dataframe tbody tr th {\n",
              "        vertical-align: top;\n",
              "    }\n",
              "\n",
              "    .dataframe thead th {\n",
              "        text-align: right;\n",
              "    }\n",
              "</style>\n",
              "<table border=\"1\" class=\"dataframe\">\n",
              "  <thead>\n",
              "    <tr style=\"text-align: right;\">\n",
              "      <th></th>\n",
              "      <th>Crop_Year</th>\n",
              "      <th>Area</th>\n",
              "      <th>Rainfall</th>\n",
              "      <th>Production</th>\n",
              "    </tr>\n",
              "  </thead>\n",
              "  <tbody>\n",
              "    <tr>\n",
              "      <th>0</th>\n",
              "      <td>1997</td>\n",
              "      <td>1878035</td>\n",
              "      <td>938.5</td>\n",
              "      <td>114326591</td>\n",
              "    </tr>\n",
              "    <tr>\n",
              "      <th>1</th>\n",
              "      <td>1998</td>\n",
              "      <td>1862183</td>\n",
              "      <td>1528.2</td>\n",
              "      <td>109489138</td>\n",
              "    </tr>\n",
              "    <tr>\n",
              "      <th>2</th>\n",
              "      <td>1999</td>\n",
              "      <td>1896965</td>\n",
              "      <td>1739.2</td>\n",
              "      <td>108577182</td>\n",
              "    </tr>\n",
              "    <tr>\n",
              "      <th>3</th>\n",
              "      <td>2000</td>\n",
              "      <td>1938366</td>\n",
              "      <td>1718.2</td>\n",
              "      <td>106067503</td>\n",
              "    </tr>\n",
              "    <tr>\n",
              "      <th>4</th>\n",
              "      <td>2001</td>\n",
              "      <td>2034883</td>\n",
              "      <td>1635.5</td>\n",
              "      <td>117981573</td>\n",
              "    </tr>\n",
              "  </tbody>\n",
              "</table>\n",
              "</div>"
            ],
            "text/plain": [
              "   Crop_Year     Area  Rainfall  Production\n",
              "0       1997  1878035     938.5   114326591\n",
              "1       1998  1862183    1528.2   109489138\n",
              "2       1999  1896965    1739.2   108577182\n",
              "3       2000  1938366    1718.2   106067503\n",
              "4       2001  2034883    1635.5   117981573"
            ]
          },
          "metadata": {
            "tags": []
          },
          "execution_count": 263
        }
      ]
    },
    {
      "cell_type": "code",
      "metadata": {
        "colab": {
          "base_uri": "https://localhost:8080/",
          "height": 483
        },
        "id": "xnV8KbjSXjDt",
        "outputId": "1dd77991-9f25-4eb3-88c9-fb2358d406bc"
      },
      "source": [
        "x_train"
      ],
      "execution_count": null,
      "outputs": [
        {
          "output_type": "execute_result",
          "data": {
            "text/html": [
              "<div>\n",
              "<style scoped>\n",
              "    .dataframe tbody tr th:only-of-type {\n",
              "        vertical-align: middle;\n",
              "    }\n",
              "\n",
              "    .dataframe tbody tr th {\n",
              "        vertical-align: top;\n",
              "    }\n",
              "\n",
              "    .dataframe thead th {\n",
              "        text-align: right;\n",
              "    }\n",
              "</style>\n",
              "<table border=\"1\" class=\"dataframe\">\n",
              "  <thead>\n",
              "    <tr style=\"text-align: right;\">\n",
              "      <th></th>\n",
              "      <th>Area</th>\n",
              "      <th>Rainfall</th>\n",
              "    </tr>\n",
              "  </thead>\n",
              "  <tbody>\n",
              "    <tr>\n",
              "      <th>2</th>\n",
              "      <td>-1.482556</td>\n",
              "      <td>0.841152</td>\n",
              "    </tr>\n",
              "    <tr>\n",
              "      <th>1</th>\n",
              "      <td>-1.761745</td>\n",
              "      <td>0.174034</td>\n",
              "    </tr>\n",
              "    <tr>\n",
              "      <th>15</th>\n",
              "      <td>1.043868</td>\n",
              "      <td>-1.520319</td>\n",
              "    </tr>\n",
              "    <tr>\n",
              "      <th>13</th>\n",
              "      <td>0.346640</td>\n",
              "      <td>0.125660</td>\n",
              "    </tr>\n",
              "    <tr>\n",
              "      <th>5</th>\n",
              "      <td>0.540336</td>\n",
              "      <td>-0.502253</td>\n",
              "    </tr>\n",
              "    <tr>\n",
              "      <th>12</th>\n",
              "      <td>-0.837527</td>\n",
              "      <td>-0.992000</td>\n",
              "    </tr>\n",
              "    <tr>\n",
              "      <th>7</th>\n",
              "      <td>-0.636888</td>\n",
              "      <td>-0.265442</td>\n",
              "    </tr>\n",
              "    <tr>\n",
              "      <th>0</th>\n",
              "      <td>-1.634504</td>\n",
              "      <td>-1.690419</td>\n",
              "    </tr>\n",
              "    <tr>\n",
              "      <th>16</th>\n",
              "      <td>1.175251</td>\n",
              "      <td>1.584150</td>\n",
              "    </tr>\n",
              "    <tr>\n",
              "      <th>6</th>\n",
              "      <td>0.228453</td>\n",
              "      <td>2.120690</td>\n",
              "    </tr>\n",
              "    <tr>\n",
              "      <th>4</th>\n",
              "      <td>-0.375510</td>\n",
              "      <td>0.513284</td>\n",
              "    </tr>\n",
              "    <tr>\n",
              "      <th>3</th>\n",
              "      <td>-1.150237</td>\n",
              "      <td>0.774756</td>\n",
              "    </tr>\n",
              "    <tr>\n",
              "      <th>11</th>\n",
              "      <td>0.020181</td>\n",
              "      <td>0.885416</td>\n",
              "    </tr>\n",
              "    <tr>\n",
              "      <th>17</th>\n",
              "      <td>1.176704</td>\n",
              "      <td>-0.901259</td>\n",
              "    </tr>\n",
              "  </tbody>\n",
              "</table>\n",
              "</div>"
            ],
            "text/plain": [
              "        Area  Rainfall\n",
              "2  -1.482556  0.841152\n",
              "1  -1.761745  0.174034\n",
              "15  1.043868 -1.520319\n",
              "13  0.346640  0.125660\n",
              "5   0.540336 -0.502253\n",
              "12 -0.837527 -0.992000\n",
              "7  -0.636888 -0.265442\n",
              "0  -1.634504 -1.690419\n",
              "16  1.175251  1.584150\n",
              "6   0.228453  2.120690\n",
              "4  -0.375510  0.513284\n",
              "3  -1.150237  0.774756\n",
              "11  0.020181  0.885416\n",
              "17  1.176704 -0.901259"
            ]
          },
          "metadata": {
            "tags": []
          },
          "execution_count": 268
        }
      ]
    },
    {
      "cell_type": "code",
      "metadata": {
        "colab": {
          "base_uri": "https://localhost:8080/"
        },
        "id": "64aIJvIiXl3D",
        "outputId": "1e29c628-2a35-4b0f-cef7-d657e75e4e94"
      },
      "source": [
        "y_train"
      ],
      "execution_count": null,
      "outputs": [
        {
          "output_type": "execute_result",
          "data": {
            "text/plain": [
              "array([[-1.20959796],\n",
              "       [-1.12969071],\n",
              "       [ 1.36009899],\n",
              "       [-0.16097482],\n",
              "       [-0.1256407 ],\n",
              "       [-0.45931531],\n",
              "       [-0.05487916],\n",
              "       [-0.70582424],\n",
              "       [ 1.72298014],\n",
              "       [-0.42191779],\n",
              "       [-0.38556805],\n",
              "       [-1.42950062],\n",
              "       [-1.16837294],\n",
              "       [ 2.11999674]])"
            ]
          },
          "metadata": {
            "tags": []
          },
          "execution_count": 269
        }
      ]
    },
    {
      "cell_type": "code",
      "metadata": {
        "id": "imhphcCZXJCX"
      },
      "source": [
        "import tensorflow as tf"
      ],
      "execution_count": null,
      "outputs": []
    },
    {
      "cell_type": "code",
      "metadata": {
        "id": "ueFN4DpnXRyP"
      },
      "source": [
        "model = tf.keras.Sequential([\n",
        "    tf.keras.layers.Dense(32, activation='relu', input_shape=[14,2]),\n",
        "    tf.keras.layers.Dense(16, activation='relu'),\n",
        "    tf.keras.layers.Dense(16, activation='relu'),\n",
        "    tf.keras.layers.Dense(1,activation='linear')\n",
        "  ])"
      ],
      "execution_count": null,
      "outputs": []
    },
    {
      "cell_type": "code",
      "metadata": {
        "colab": {
          "base_uri": "https://localhost:8080/"
        },
        "id": "ITt94BXpYK0U",
        "outputId": "4363c93e-890c-4d3d-f8a3-f4808ad9457e"
      },
      "source": [
        "optimizer = tf.keras.optimizers.Adam()\n",
        "model.compile(loss='mean_squared_error',optimizer=optimizer,metrics=[\"accuracy\"])\n",
        "H=model.fit(x_train,y_train,epochs=50,validation_data=(x_test,y_test))"
      ],
      "execution_count": null,
      "outputs": [
        {
          "output_type": "stream",
          "text": [
            "Epoch 1/50\n",
            "WARNING:tensorflow:Model was constructed with shape (None, 14, 2) for input Tensor(\"dense_28_input:0\", shape=(None, 14, 2), dtype=float32), but it was called on an input with incompatible shape (None, 2).\n",
            "WARNING:tensorflow:Model was constructed with shape (None, 14, 2) for input Tensor(\"dense_28_input:0\", shape=(None, 14, 2), dtype=float32), but it was called on an input with incompatible shape (None, 2).\n",
            "1/1 [==============================] - ETA: 0s - loss: 1.2111 - accuracy: 0.0000e+00WARNING:tensorflow:Model was constructed with shape (None, 14, 2) for input Tensor(\"dense_28_input:0\", shape=(None, 14, 2), dtype=float32), but it was called on an input with incompatible shape (None, 2).\n",
            "1/1 [==============================] - 0s 122ms/step - loss: 1.2111 - accuracy: 0.0000e+00 - val_loss: 0.3488 - val_accuracy: 0.0000e+00\n",
            "Epoch 2/50\n",
            "1/1 [==============================] - 0s 17ms/step - loss: 1.1915 - accuracy: 0.0000e+00 - val_loss: 0.3384 - val_accuracy: 0.0000e+00\n",
            "Epoch 3/50\n",
            "1/1 [==============================] - 0s 20ms/step - loss: 1.1719 - accuracy: 0.0000e+00 - val_loss: 0.3285 - val_accuracy: 0.0000e+00\n",
            "Epoch 4/50\n",
            "1/1 [==============================] - 0s 17ms/step - loss: 1.1535 - accuracy: 0.0000e+00 - val_loss: 0.3197 - val_accuracy: 0.0000e+00\n",
            "Epoch 5/50\n",
            "1/1 [==============================] - 0s 27ms/step - loss: 1.1359 - accuracy: 0.0000e+00 - val_loss: 0.3115 - val_accuracy: 0.0000e+00\n",
            "Epoch 6/50\n",
            "1/1 [==============================] - 0s 17ms/step - loss: 1.1174 - accuracy: 0.0000e+00 - val_loss: 0.3038 - val_accuracy: 0.0000e+00\n",
            "Epoch 7/50\n",
            "1/1 [==============================] - 0s 17ms/step - loss: 1.0991 - accuracy: 0.0000e+00 - val_loss: 0.2960 - val_accuracy: 0.0000e+00\n",
            "Epoch 8/50\n",
            "1/1 [==============================] - 0s 18ms/step - loss: 1.0817 - accuracy: 0.0000e+00 - val_loss: 0.2886 - val_accuracy: 0.0000e+00\n",
            "Epoch 9/50\n",
            "1/1 [==============================] - 0s 16ms/step - loss: 1.0644 - accuracy: 0.0000e+00 - val_loss: 0.2825 - val_accuracy: 0.0000e+00\n",
            "Epoch 10/50\n",
            "1/1 [==============================] - 0s 17ms/step - loss: 1.0483 - accuracy: 0.0000e+00 - val_loss: 0.2772 - val_accuracy: 0.0000e+00\n",
            "Epoch 11/50\n",
            "1/1 [==============================] - 0s 19ms/step - loss: 1.0325 - accuracy: 0.0000e+00 - val_loss: 0.2719 - val_accuracy: 0.0000e+00\n",
            "Epoch 12/50\n",
            "1/1 [==============================] - 0s 18ms/step - loss: 1.0171 - accuracy: 0.0000e+00 - val_loss: 0.2663 - val_accuracy: 0.0000e+00\n",
            "Epoch 13/50\n",
            "1/1 [==============================] - 0s 18ms/step - loss: 1.0016 - accuracy: 0.0000e+00 - val_loss: 0.2605 - val_accuracy: 0.0000e+00\n",
            "Epoch 14/50\n",
            "1/1 [==============================] - 0s 18ms/step - loss: 0.9858 - accuracy: 0.0000e+00 - val_loss: 0.2540 - val_accuracy: 0.0000e+00\n",
            "Epoch 15/50\n",
            "1/1 [==============================] - 0s 19ms/step - loss: 0.9699 - accuracy: 0.0000e+00 - val_loss: 0.2470 - val_accuracy: 0.0000e+00\n",
            "Epoch 16/50\n",
            "1/1 [==============================] - 0s 19ms/step - loss: 0.9543 - accuracy: 0.0000e+00 - val_loss: 0.2397 - val_accuracy: 0.0000e+00\n",
            "Epoch 17/50\n",
            "1/1 [==============================] - 0s 23ms/step - loss: 0.9389 - accuracy: 0.0000e+00 - val_loss: 0.2323 - val_accuracy: 0.0000e+00\n",
            "Epoch 18/50\n",
            "1/1 [==============================] - 0s 20ms/step - loss: 0.9239 - accuracy: 0.0000e+00 - val_loss: 0.2249 - val_accuracy: 0.0000e+00\n",
            "Epoch 19/50\n",
            "1/1 [==============================] - 0s 17ms/step - loss: 0.9085 - accuracy: 0.0000e+00 - val_loss: 0.2173 - val_accuracy: 0.0000e+00\n",
            "Epoch 20/50\n",
            "1/1 [==============================] - 0s 18ms/step - loss: 0.8929 - accuracy: 0.0000e+00 - val_loss: 0.2095 - val_accuracy: 0.0000e+00\n",
            "Epoch 21/50\n",
            "1/1 [==============================] - 0s 19ms/step - loss: 0.8774 - accuracy: 0.0000e+00 - val_loss: 0.2015 - val_accuracy: 0.0000e+00\n",
            "Epoch 22/50\n",
            "1/1 [==============================] - 0s 21ms/step - loss: 0.8620 - accuracy: 0.0000e+00 - val_loss: 0.1935 - val_accuracy: 0.0000e+00\n",
            "Epoch 23/50\n",
            "1/1 [==============================] - 0s 21ms/step - loss: 0.8465 - accuracy: 0.0000e+00 - val_loss: 0.1855 - val_accuracy: 0.0000e+00\n",
            "Epoch 24/50\n",
            "1/1 [==============================] - 0s 18ms/step - loss: 0.8305 - accuracy: 0.0000e+00 - val_loss: 0.1775 - val_accuracy: 0.0000e+00\n",
            "Epoch 25/50\n",
            "1/1 [==============================] - 0s 17ms/step - loss: 0.8144 - accuracy: 0.0000e+00 - val_loss: 0.1696 - val_accuracy: 0.0000e+00\n",
            "Epoch 26/50\n",
            "1/1 [==============================] - 0s 16ms/step - loss: 0.7983 - accuracy: 0.0000e+00 - val_loss: 0.1615 - val_accuracy: 0.0000e+00\n",
            "Epoch 27/50\n",
            "1/1 [==============================] - 0s 21ms/step - loss: 0.7821 - accuracy: 0.0000e+00 - val_loss: 0.1534 - val_accuracy: 0.0000e+00\n",
            "Epoch 28/50\n",
            "1/1 [==============================] - 0s 18ms/step - loss: 0.7654 - accuracy: 0.0000e+00 - val_loss: 0.1454 - val_accuracy: 0.0000e+00\n",
            "Epoch 29/50\n",
            "1/1 [==============================] - 0s 24ms/step - loss: 0.7484 - accuracy: 0.0000e+00 - val_loss: 0.1371 - val_accuracy: 0.0000e+00\n",
            "Epoch 30/50\n",
            "1/1 [==============================] - 0s 18ms/step - loss: 0.7304 - accuracy: 0.0000e+00 - val_loss: 0.1289 - val_accuracy: 0.0000e+00\n",
            "Epoch 31/50\n",
            "1/1 [==============================] - 0s 20ms/step - loss: 0.7119 - accuracy: 0.0000e+00 - val_loss: 0.1206 - val_accuracy: 0.0000e+00\n",
            "Epoch 32/50\n",
            "1/1 [==============================] - 0s 22ms/step - loss: 0.6933 - accuracy: 0.0000e+00 - val_loss: 0.1123 - val_accuracy: 0.0000e+00\n",
            "Epoch 33/50\n",
            "1/1 [==============================] - 0s 17ms/step - loss: 0.6744 - accuracy: 0.0000e+00 - val_loss: 0.1041 - val_accuracy: 0.0000e+00\n",
            "Epoch 34/50\n",
            "1/1 [==============================] - 0s 20ms/step - loss: 0.6551 - accuracy: 0.0000e+00 - val_loss: 0.0963 - val_accuracy: 0.0000e+00\n",
            "Epoch 35/50\n",
            "1/1 [==============================] - 0s 20ms/step - loss: 0.6356 - accuracy: 0.0000e+00 - val_loss: 0.0887 - val_accuracy: 0.0000e+00\n",
            "Epoch 36/50\n",
            "1/1 [==============================] - 0s 19ms/step - loss: 0.6158 - accuracy: 0.0000e+00 - val_loss: 0.0814 - val_accuracy: 0.0000e+00\n",
            "Epoch 37/50\n",
            "1/1 [==============================] - 0s 15ms/step - loss: 0.5959 - accuracy: 0.0000e+00 - val_loss: 0.0745 - val_accuracy: 0.0000e+00\n",
            "Epoch 38/50\n",
            "1/1 [==============================] - 0s 18ms/step - loss: 0.5758 - accuracy: 0.0000e+00 - val_loss: 0.0682 - val_accuracy: 0.0000e+00\n",
            "Epoch 39/50\n",
            "1/1 [==============================] - 0s 17ms/step - loss: 0.5561 - accuracy: 0.0000e+00 - val_loss: 0.0625 - val_accuracy: 0.0000e+00\n",
            "Epoch 40/50\n",
            "1/1 [==============================] - 0s 18ms/step - loss: 0.5368 - accuracy: 0.0000e+00 - val_loss: 0.0573 - val_accuracy: 0.0000e+00\n",
            "Epoch 41/50\n",
            "1/1 [==============================] - 0s 16ms/step - loss: 0.5180 - accuracy: 0.0000e+00 - val_loss: 0.0528 - val_accuracy: 0.0000e+00\n",
            "Epoch 42/50\n",
            "1/1 [==============================] - 0s 19ms/step - loss: 0.4994 - accuracy: 0.0000e+00 - val_loss: 0.0490 - val_accuracy: 0.0000e+00\n",
            "Epoch 43/50\n",
            "1/1 [==============================] - 0s 20ms/step - loss: 0.4812 - accuracy: 0.0000e+00 - val_loss: 0.0460 - val_accuracy: 0.0000e+00\n",
            "Epoch 44/50\n",
            "1/1 [==============================] - 0s 22ms/step - loss: 0.4633 - accuracy: 0.0000e+00 - val_loss: 0.0439 - val_accuracy: 0.0000e+00\n",
            "Epoch 45/50\n",
            "1/1 [==============================] - 0s 22ms/step - loss: 0.4457 - accuracy: 0.0000e+00 - val_loss: 0.0427 - val_accuracy: 0.0000e+00\n",
            "Epoch 46/50\n",
            "1/1 [==============================] - 0s 20ms/step - loss: 0.4283 - accuracy: 0.0000e+00 - val_loss: 0.0426 - val_accuracy: 0.0000e+00\n",
            "Epoch 47/50\n",
            "1/1 [==============================] - 0s 17ms/step - loss: 0.4114 - accuracy: 0.0000e+00 - val_loss: 0.0436 - val_accuracy: 0.0000e+00\n",
            "Epoch 48/50\n",
            "1/1 [==============================] - 0s 17ms/step - loss: 0.3953 - accuracy: 0.0000e+00 - val_loss: 0.0456 - val_accuracy: 0.0000e+00\n",
            "Epoch 49/50\n",
            "1/1 [==============================] - 0s 19ms/step - loss: 0.3796 - accuracy: 0.0000e+00 - val_loss: 0.0488 - val_accuracy: 0.0000e+00\n",
            "Epoch 50/50\n",
            "1/1 [==============================] - 0s 17ms/step - loss: 0.3642 - accuracy: 0.0000e+00 - val_loss: 0.0532 - val_accuracy: 0.0000e+00\n"
          ],
          "name": "stdout"
        }
      ]
    },
    {
      "cell_type": "code",
      "metadata": {
        "colab": {
          "base_uri": "https://localhost:8080/",
          "height": 316
        },
        "id": "0ANPSmhMZUnc",
        "outputId": "4bb31bb3-d6f4-4834-dd49-80c8e3bafbe6"
      },
      "source": [
        "N = 50\n",
        "plt.style.use(\"ggplot\")\n",
        "plt.figure(figsize=(15,4))\n",
        "plt.plot(np.arange(0, N), H.history[\"loss\"], label=\"train_loss\")\n",
        "plt.plot(np.arange(0, N), H.history[\"val_loss\"], label=\"val_loss\")\n",
        "plt.plot(np.arange(0, N), H.history[\"accuracy\"], label=\"train_acc\")\n",
        "plt.plot(np.arange(0, N), H.history[\"val_accuracy\"], label=\"val_acc\")\n",
        "plt.title(\"Training Loss and Accuracy\")\n",
        "plt.xlabel(\"Epoch--->\")\n",
        "plt.ylabel(\"Loss/Accuracy\")\n",
        "plt.legend(loc=\"center right\")"
      ],
      "execution_count": null,
      "outputs": [
        {
          "output_type": "execute_result",
          "data": {
            "text/plain": [
              "<matplotlib.legend.Legend at 0x7febb49925f8>"
            ]
          },
          "metadata": {
            "tags": []
          },
          "execution_count": 302
        },
        {
          "output_type": "display_data",
          "data": {
            "image/png": "[encoded data removed]",
            "text/plain": [
              "<Figure size 1080x288 with 1 Axes>"
            ]
          },
          "metadata": {
            "tags": []
          }
        }
      ]
    },
    {
      "cell_type": "code",
      "metadata": {
        "colab": {
          "base_uri": "https://localhost:8080/"
        },
        "id": "ksFtyYSKfCgX",
        "outputId": "e8189bb3-f9d6-4420-d9b0-7c6b0ce1f732"
      },
      "source": [
        "H.history[\"accuracy\"]"
      ],
      "execution_count": null,
      "outputs": [
        {
          "output_type": "execute_result",
          "data": {
            "text/plain": [
              "[0.0,\n",
              " 0.0,\n",
              " 0.0,\n",
              " 0.0,\n",
              " 0.0,\n",
              " 0.0,\n",
              " 0.0,\n",
              " 0.0,\n",
              " 0.0,\n",
              " 0.0,\n",
              " 0.0,\n",
              " 0.0,\n",
              " 0.0,\n",
              " 0.0,\n",
              " 0.0,\n",
              " 0.0,\n",
              " 0.0,\n",
              " 0.0,\n",
              " 0.0,\n",
              " 0.0,\n",
              " 0.0,\n",
              " 0.0,\n",
              " 0.0,\n",
              " 0.0,\n",
              " 0.0,\n",
              " 0.0,\n",
              " 0.0,\n",
              " 0.0,\n",
              " 0.0,\n",
              " 0.0,\n",
              " 0.0,\n",
              " 0.0,\n",
              " 0.0,\n",
              " 0.0,\n",
              " 0.0,\n",
              " 0.0,\n",
              " 0.0,\n",
              " 0.0,\n",
              " 0.0,\n",
              " 0.0,\n",
              " 0.0,\n",
              " 0.0,\n",
              " 0.0,\n",
              " 0.0,\n",
              " 0.0,\n",
              " 0.0,\n",
              " 0.0,\n",
              " 0.0,\n",
              " 0.0,\n",
              " 0.0]"
            ]
          },
          "metadata": {
            "tags": []
          },
          "execution_count": 319
        }
      ]
    },
    {
      "cell_type": "code",
      "metadata": {
        "colab": {
          "base_uri": "https://localhost:8080/"
        },
        "id": "T0KWSTZHYcxi",
        "outputId": "a781a4b9-5657-457e-986b-cf0dce49124c"
      },
      "source": [
        "scaler_y.inverse_transform(model.predict(x_test))"
      ],
      "execution_count": null,
      "outputs": [
        {
          "output_type": "stream",
          "text": [
            "WARNING:tensorflow:Model was constructed with shape (None, 14, 2) for input Tensor(\"dense_28_input:0\", shape=(None, 14, 2), dtype=float32), but it was called on an input with incompatible shape (None, 2).\n"
          ],
          "name": "stdout"
        },
        {
          "output_type": "execute_result",
          "data": {
            "text/plain": [
              "array([[1.29361336e+08],\n",
              "       [1.27696208e+08],\n",
              "       [1.28422728e+08],\n",
              "       [1.33222632e+08]], dtype=float32)"
            ]
          },
          "metadata": {
            "tags": []
          },
          "execution_count": 303
        }
      ]
    },
    {
      "cell_type": "code",
      "metadata": {
        "colab": {
          "base_uri": "https://localhost:8080/"
        },
        "id": "SPuT2ifCYp5r",
        "outputId": "1121a52e-7ccc-4b82-c65b-8072828d2d1c"
      },
      "source": [
        "scaler_y.inverse_transform(y_test)"
      ],
      "execution_count": null,
      "outputs": [
        {
          "output_type": "execute_result",
          "data": {
            "text/plain": [
              "array([[1.24665288e+08],\n",
              "       [1.25469871e+08],\n",
              "       [1.28818743e+08],\n",
              "       [1.33949379e+08]])"
            ]
          },
          "metadata": {
            "tags": []
          },
          "execution_count": 304
        }
      ]
    },
    {
      "cell_type": "code",
      "metadata": {
        "id": "Qh-I0hA1Y1ay"
      },
      "source": [
        "model.save('lr.h5')"
      ],
      "execution_count": null,
      "outputs": []
    },
    {
      "cell_type": "code",
      "metadata": {
        "colab": {
          "base_uri": "https://localhost:8080/"
        },
        "id": "MWTi_AqecXXm",
        "outputId": "9af3c8e6-fa25-4f3f-d2af-f8dfa1bbd7fd"
      },
      "source": [
        "x_train.shape"
      ],
      "execution_count": null,
      "outputs": [
        {
          "output_type": "execute_result",
          "data": {
            "text/plain": [
              "(14, 2)"
            ]
          },
          "metadata": {
            "tags": []
          },
          "execution_count": 309
        }
      ]
    },
    {
      "cell_type": "code",
      "metadata": {
        "id": "28xwoOPncd_q"
      },
      "source": [
        ""
      ],
      "execution_count": null,
      "outputs": []
    },
    {
      "cell_type": "code",
      "metadata": {
        "id": "b72Yt9k4cGZj"
      },
      "source": [
        "s=np.array([[-1.482556,0.841152]])"
      ],
      "execution_count": null,
      "outputs": []
    },
    {
      "cell_type": "code",
      "metadata": {
        "colab": {
          "base_uri": "https://localhost:8080/"
        },
        "id": "FWyqpbnqcxRI",
        "outputId": "4b20ed63-9055-4701-ef60-fa36bdbcfcd8"
      },
      "source": [
        "s.shape"
      ],
      "execution_count": null,
      "outputs": [
        {
          "output_type": "execute_result",
          "data": {
            "text/plain": [
              "(1, 2)"
            ]
          },
          "metadata": {
            "tags": []
          },
          "execution_count": 316
        }
      ]
    },
    {
      "cell_type": "code",
      "metadata": {
        "colab": {
          "base_uri": "https://localhost:8080/"
        },
        "id": "QsLDsRuabuXL",
        "outputId": "911a8d80-ac1a-4466-de1d-2861b3130ec8"
      },
      "source": [
        "scaler_y.inverse_transform(model.predict(np.array([[-1.482556,0.841152]])))"
      ],
      "execution_count": null,
      "outputs": [
        {
          "output_type": "stream",
          "text": [
            "WARNING:tensorflow:Model was constructed with shape (None, 14, 2) for input Tensor(\"dense_28_input:0\", shape=(None, 14, 2), dtype=float32), but it was called on an input with incompatible shape (None, None).\n"
          ],
          "name": "stdout"
        },
        {
          "output_type": "execute_result",
          "data": {
            "text/plain": [
              "array([[1.1385141e+08]], dtype=float32)"
            ]
          },
          "metadata": {
            "tags": []
          },
          "execution_count": 318
        }
      ]
    },
    {
      "cell_type": "code",
      "metadata": {
        "id": "zaefhYB0b-Nu"
      },
      "source": [
        ""
      ],
      "execution_count": null,
      "outputs": []
    }
  ]
}